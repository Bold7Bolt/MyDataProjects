{
 "cells": [
  {
   "cell_type": "code",
   "execution_count": 1,
   "id": "39732ec5-663f-4653-b864-8919394838b4",
   "metadata": {},
   "outputs": [
    {
     "ename": "ModuleNotFoundError",
     "evalue": "No module named 'pandas'",
     "output_type": "error",
     "traceback": [
      "\u001b[1;31m---------------------------------------------------------------------------\u001b[0m",
      "\u001b[1;31mModuleNotFoundError\u001b[0m                       Traceback (most recent call last)",
      "Cell \u001b[1;32mIn[1], line 2\u001b[0m\n\u001b[0;32m      1\u001b[0m \u001b[38;5;66;03m# 필요한 라이브러리 불러오기\u001b[39;00m\n\u001b[1;32m----> 2\u001b[0m \u001b[38;5;28;01mimport\u001b[39;00m\u001b[38;5;250m \u001b[39m\u001b[38;5;21;01mpandas\u001b[39;00m\u001b[38;5;250m \u001b[39m\u001b[38;5;28;01mas\u001b[39;00m\u001b[38;5;250m \u001b[39m\u001b[38;5;21;01mpd\u001b[39;00m\n\u001b[0;32m      3\u001b[0m \u001b[38;5;28;01mimport\u001b[39;00m\u001b[38;5;250m \u001b[39m\u001b[38;5;21;01mmatplotlib\u001b[39;00m\u001b[38;5;21;01m.\u001b[39;00m\u001b[38;5;21;01mpyplot\u001b[39;00m\u001b[38;5;250m \u001b[39m\u001b[38;5;28;01mas\u001b[39;00m\u001b[38;5;250m \u001b[39m\u001b[38;5;21;01mplt\u001b[39;00m\n\u001b[0;32m      4\u001b[0m \u001b[38;5;28;01mimport\u001b[39;00m\u001b[38;5;250m \u001b[39m\u001b[38;5;21;01mseaborn\u001b[39;00m\u001b[38;5;250m \u001b[39m\u001b[38;5;28;01mas\u001b[39;00m\u001b[38;5;250m \u001b[39m\u001b[38;5;21;01msns\u001b[39;00m\n",
      "\u001b[1;31mModuleNotFoundError\u001b[0m: No module named 'pandas'"
     ]
    }
   ],
   "source": [
    "# 필요한 라이브러리 불러오기\n",
    "import pandas as pd\n",
    "import matplotlib.pyplot as plt\n",
    "import seaborn as sns\n",
    "import platform # 한글 폰트 설정을 위해 필요\n",
    "from matplotlib import font_manager, rc # 한글 폰트 설정을 위해 필요\n",
    "\n",
    "# ==========================================================\n",
    "# Matplotlib 한글 폰트 설정 (이 부분은 항상 코드 맨 위에 넣어주세요!)\n",
    "# 한글이 깨지는 것을 방지합니다.\n",
    "# ==========================================================\n",
    "if platform.system() == 'Windows':\n",
    "    font_path = \"c:/Windows/Fonts/malgun.ttf\" # Windows 맑은 고딕 폰트 경로\n",
    "    font_name = font_manager.FontProperties(fname=font_path).get_name()\n",
    "    rc('font', family=font_name)\n",
    "elif platform.system() == 'Darwin': # Mac 사용자일 경우 (만약 Mac을 사용하신다면 'AppleGothic'이 일반적)\n",
    "    rc('font', family='AppleGothic')\n",
    "plt.rcParams['axes.unicode_minus'] = False # 마이너스 부호 깨짐 방지\n",
    "\n",
    "print(\"그래프를 그릴 준비 완료!\\n\")\n",
    "\n",
    "# 1. 이전 단계에서 만들었던 간단한 데이터프레임 다시 생성\n",
    "data = {\n",
    "    '이름': ['철수', '영희', '민수', '수지'],\n",
    "    '나이': [25, 22, 30, 28],\n",
    "    '도시': ['서울', '부산', '제주', '서울']\n",
    "}\n",
    "df = pd.DataFrame(data)\n",
    "\n",
    "print(\">> 생성된 데이터프레임:\")\n",
    "print(df)\n",
    "\n",
    "# 2. 간단한 막대 그래프 그리기: 도시별 사람 수\n",
    "# '도시' 컬럼의 각 고유값(서울, 부산, 제주)이 몇 번 나오는지 세어봅니다.\n",
    "city_counts = df['도시'].value_counts()\n",
    "print(\"\\n>> 도시별 사람 수:\")\n",
    "print(city_counts)\n",
    "\n",
    "# 막대 그래프 그리기 설정\n",
    "plt.figure(figsize=(8, 5)) # 그래프 크기 설정 (가로 8인치, 세로 5인치)\n",
    "sns.barplot(x=city_counts.index, y=city_counts.values, palette='viridis') # x축에 도시 이름, y축에 사람 수, 색상 팔레트 추가\n",
    "plt.title('도시별 거주자 수', fontsize=15) # 그래프 제목 및 글자 크기 설정\n",
    "plt.xlabel('도시', fontsize=12) # x축 레이블 및 글자 크기 설정\n",
    "plt.ylabel('인원 수', fontsize=12) # y축 레이블 및 글자 크기 설정\n",
    "plt.grid(axis='y', linestyle='--', alpha=0.7) # y축에 격자선 추가\n",
    "plt.show() # 그래프 보여주기\n",
    "\n",
    "print(\"\\n>> 첫 번째 그래프가 성공적으로 그려졌습니다!\")"
   ]
  },
  {
   "cell_type": "code",
   "execution_count": null,
   "id": "964ed38f-1067-4e2f-a93d-183df9f3e838",
   "metadata": {},
   "outputs": [],
   "source": []
  }
 ],
 "metadata": {
  "kernelspec": {
   "display_name": "Python 3 (ipykernel)",
   "language": "python",
   "name": "python3"
  },
  "language_info": {
   "codemirror_mode": {
    "name": "ipython",
    "version": 3
   },
   "file_extension": ".py",
   "mimetype": "text/x-python",
   "name": "python",
   "nbconvert_exporter": "python",
   "pygments_lexer": "ipython3",
   "version": "3.9.23"
  }
 },
 "nbformat": 4,
 "nbformat_minor": 5
}
